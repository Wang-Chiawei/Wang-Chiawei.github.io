{
  "nbformat": 4,
  "nbformat_minor": 0,
  "metadata": {
    "colab": {
      "provenance": [],
      "authorship_tag": "ABX9TyOIgFGhcBdiC6jVhV3IyUIP",
      "include_colab_link": true
    },
    "kernelspec": {
      "name": "python3",
      "display_name": "Python 3"
    },
    "language_info": {
      "name": "python"
    }
  },
  "cells": [
    {
      "cell_type": "markdown",
      "metadata": {
        "id": "view-in-github",
        "colab_type": "text"
      },
      "source": [
        "<a href=\"https://colab.research.google.com/github/Wang-Chiawei/Wang-Chiawei.github.io/blob/main/MaintainCategory.ipynb\" target=\"_parent\"><img src=\"https://colab.research.google.com/assets/colab-badge.svg\" alt=\"Open In Colab\"/></a>"
      ]
    },
    {
      "cell_type": "code",
      "execution_count": 60,
      "metadata": {
        "id": "34BeTItfF740"
      },
      "outputs": [],
      "source": [
        "import pandas as pd\n",
        "import jieba\n",
        "import jieba.posseg as pseg\n",
        "from sklearn.cluster import DBSCAN\n",
        "from sklearn.feature_extraction.text import TfidfVectorizer\n",
        "from sklearn.cluster import KMeans"
      ]
    },
    {
      "cell_type": "code",
      "source": [
        "# 設置jieba的繁體中文詞庫\n",
        "jieba.set_dictionary('dict.txt.big')\n",
        "jieba.load_userdict('maintain_dict.txt')\n"
      ],
      "metadata": {
        "colab": {
          "base_uri": "https://localhost:8080/"
        },
        "id": "MxurC429F_vP",
        "outputId": "9b4e7fec-e420-4f1a-bb64-9e9d17421401"
      },
      "execution_count": 61,
      "outputs": [
        {
          "output_type": "stream",
          "name": "stderr",
          "text": [
            "Building prefix dict from /content/dict.txt.big ...\n",
            "DEBUG:jieba:Building prefix dict from /content/dict.txt.big ...\n",
            "Loading model from cache /tmp/jieba.u501edca284da514cb68b53a20324f4e3.cache\n",
            "DEBUG:jieba:Loading model from cache /tmp/jieba.u501edca284da514cb68b53a20324f4e3.cache\n",
            "Loading model cost 1.325 seconds.\n",
            "DEBUG:jieba:Loading model cost 1.325 seconds.\n",
            "Prefix dict has been built successfully.\n",
            "DEBUG:jieba:Prefix dict has been built successfully.\n"
          ]
        }
      ]
    },
    {
      "cell_type": "code",
      "source": [
        "# 讀取停用詞列表\n",
        "def load_stopwords(path):\n",
        "    with open(path, 'r', encoding='utf-8') as file:\n",
        "        stopwords = set([line.strip() for line in file])\n",
        "    return stopwords"
      ],
      "metadata": {
        "id": "_fVSoK10GAYE"
      },
      "execution_count": 62,
      "outputs": []
    },
    {
      "cell_type": "code",
      "source": [
        "def preprocess_chinese(text, stopwords):\n",
        "    words = pseg.cut(text)\n",
        "    verbs = [word for word, flag in words if flag.startswith('v') and word not in stopwords]\n",
        "    return ' '.join(verbs) if verbs else text  # 如果没有动词则返回原文本"
      ],
      "metadata": {
        "id": "ZUra1eSfGDhe"
      },
      "execution_count": 63,
      "outputs": []
    },
    {
      "cell_type": "code",
      "source": [
        "def load_data(filepath):\n",
        "    return pd.read_excel(filepath, sheet_name=\"離子植入機_動作\", usecols=[\"用詞\"])\n"
      ],
      "metadata": {
        "id": "kafWYzn0GLbT"
      },
      "execution_count": 64,
      "outputs": []
    },
    {
      "cell_type": "code",
      "source": [
        "def vectorize_data(data, stopwords):\n",
        "    # 应用预处理，同时保存动词或原文本到新列\n",
        "    data['提取動詞'] = data['用詞'].apply(lambda x: preprocess_chinese(x, stopwords))\n",
        "    vectorizer = TfidfVectorizer()\n",
        "    tfidf_matrix = vectorizer.fit_transform(data['提取動詞'])\n",
        "    return tfidf_matrix"
      ],
      "metadata": {
        "id": "cEgkmyWnGNdi"
      },
      "execution_count": 65,
      "outputs": []
    },
    {
      "cell_type": "code",
      "source": [
        "def cluster_data(tfidf_matrix, num_clusters=5):\n",
        "    km = KMeans(n_clusters=num_clusters)\n",
        "    km.fit(tfidf_matrix)\n",
        "    return km.labels_\n"
      ],
      "metadata": {
        "id": "QQaQjNXEGPZA"
      },
      "execution_count": 66,
      "outputs": []
    },
    {
      "cell_type": "code",
      "source": [
        "def cluster_data_with_dbscan(tfidf_matrix, eps=0.5, min_samples=5):\n",
        "    dbscan = DBSCAN(eps=eps, min_samples=min_samples)\n",
        "    clusters = dbscan.fit_predict(tfidf_matrix)\n",
        "    return clusters\n"
      ],
      "metadata": {
        "id": "8bMfMStELnm7"
      },
      "execution_count": 67,
      "outputs": []
    },
    {
      "cell_type": "code",
      "source": [
        "stopwords = load_stopwords('stop_words.txt')  # 读取停用词\n",
        "data = load_data(\"標準語結果v7_第一道處理_離子植入機_20240416.xlsx\")  # 读取数据\n",
        "tfidf_matrix = vectorize_data(data, stopwords)  # 特征提取\n",
        "# data['分類結果'] = cluster_data(tfidf_matrix, num_clusters=7)\n",
        "data['分類結果'] = cluster_data_with_dbscan(tfidf_matrix, eps=0.5, min_samples=1) # DBSCAN分群\n",
        "data.to_excel(\"classified_data.xlsx\", index=False)  # 保存到新的Excel文件"
      ],
      "metadata": {
        "id": "gox-X7ttGQ4Z"
      },
      "execution_count": 68,
      "outputs": []
    }
  ]
}